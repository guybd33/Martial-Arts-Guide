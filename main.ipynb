{
 "cells": [
  {
   "cell_type": "markdown",
   "id": "b00dbe83",
   "metadata": {},
   "source": [
    "# Guy Ben Dor"
   ]
  },
  {
   "cell_type": "markdown",
   "id": "e719405a",
   "metadata": {},
   "source": [
    "Main"
   ]
  },
  {
   "cell_type": "code",
   "execution_count": null,
   "id": "e51aa7b5",
   "metadata": {},
   "outputs": [],
   "source": [
    "import tkinter as tk\n",
    "from functions import *\n",
    "from tkinter import *\n",
    "from compartion_algorithm import *\n",
    "\n",
    "if __name__ == '__main__':\n",
    "    window = tk.Tk()\n",
    "    window.title(\"Guy and Yotam Project\")  # window name\n",
    "    window.config(background=\"cyan\")  # background color\n",
    "    width, height = pyautogui.size()\n",
    "    window.maxsize(width, height)\n",
    "\n",
    "\n",
    "    ws = window.winfo_screenwidth()  # width of the screen\n",
    "    hs = window.winfo_screenheight()  # height of the screen\n",
    "    w = window.winfo_screenwidth()\n",
    "    h = window.winfo_screenheight()\n",
    "    # w = 500\n",
    "    # h = 400\n",
    "    x = (ws / 2) - (w / 2)\n",
    "    y = (hs / 2) - (h / 2)\n",
    "    window.geometry('%dx%d+%d+%d' % (w, h, x, y))\n",
    "\n",
    "    main_name = Label(window, text=\"School for MMA\", font=('Arial', 20, 'bold'), fg='green', bg='black',\n",
    "                  relief=RAISED, bd=10)  # create label\n",
    "    main_name.place(x=width/2, y=0)  # put the label in gui\n",
    "\n",
    "    teacher_label = Label(window, text=\"Teacher\", font=('Arial', 20, 'bold'), fg='black', bg='blue',\n",
    "                      relief=RAISED, bd=10)  # create label\n",
    "    teacher_label.place(x=width/3, y=200)  # put the label in gui\n",
    "\n",
    "    arrow_teacher = Label(window, width=13,height = 1, text = \"-------------->\", bg= \"cyan\", font=(\"Helvetica\", 20))\n",
    "    arrow_teacher.place(x= width/2, y=210)\n",
    "\n",
    "    live_section_teacher = Button(window, text=\"Live Video\", command=live_section_teacher, font=(\"Comic Sans\", 20), fg=\"blue\",\n",
    "                    bg=\"yellow\")\n",
    "    live_section_teacher.place(x=width/1.5, y=150)\n",
    "\n",
    "    video_selecter_teacher = Button(window, text=\"Video Selecter\", command=video_selecter_teacher, font=(\"Comic Sans\", 20), fg=\"blue\",\n",
    "                                  bg=\"green\")\n",
    "    video_selecter_teacher.place(x=width/1.5, y=300)\n",
    "\n",
    "    student_label = Label(window, text=\"Student\", font=('Arial', 20, 'bold'), fg='black', bg='red',\n",
    "                          relief=RAISED, bd=10)  # create label\n",
    "    student_label.place(x=width/3, y=550)  # put the label in gui\n",
    "\n",
    "    arrow_student = Label(window, width=13, height=1, text=\"-------------->\", bg=\"cyan\", font=(\"Helvetica\", 20))\n",
    "    arrow_student.place(x=width/2, y=560)\n",
    "\n",
    "    live_section_student = Button(window, text=\"Live Video\", command=live_section_student, font=(\"Comic Sans\", 20),fg=\"red\",\n",
    "                                  bg=\"white\")\n",
    "    live_section_student.place(x=width/1.5, y=550)\n",
    "\n",
    "    comparison_algorithm = Button(window, text=\"Comparison\", command=comparison_algorithm, font=(\"Comic Sans\", 20),fg=\"gray\",\n",
    "                                  bg=\"purple\")\n",
    "    comparison_algorithm.place(x=width/2, y=730)\n",
    "\n",
    "    exit_button = Button(window, text='Close', width=10, height=2, borderwidth=3, command=window.destroy)\n",
    "    exit_button.place(x=width/1.5, y=755)\n",
    "\n",
    "    window.mainloop()"
   ]
  }
 ],
 "metadata": {
  "kernelspec": {
   "display_name": "Python 3 (ipykernel)",
   "language": "python",
   "name": "python3"
  },
  "language_info": {
   "codemirror_mode": {
    "name": "ipython",
    "version": 3
   },
   "file_extension": ".py",
   "mimetype": "text/x-python",
   "name": "python",
   "nbconvert_exporter": "python",
   "pygments_lexer": "ipython3",
   "version": "3.9.5"
  }
 },
 "nbformat": 4,
 "nbformat_minor": 5
}
